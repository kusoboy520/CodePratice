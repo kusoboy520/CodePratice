{
 "cells": [
  {
   "cell_type": "markdown",
   "metadata": {},
   "source": [
    "# RabbitMQ demo"
   ]
  },
  {
   "cell_type": "code",
   "execution_count": 1,
   "metadata": {},
   "outputs": [],
   "source": [
    "from rabbit_task.clients import redisClient, PikaClient\n",
    "import json\n",
    "import re\n",
    "import random"
   ]
  },
  {
   "cell_type": "code",
   "execution_count": 2,
   "metadata": {},
   "outputs": [
    {
     "name": "stdout",
     "output_type": "stream",
     "text": [
      "Connection:  True\n",
      "[o] Message delivered successfully.{\"userid\": \"user_3\", \"itemid\": \"itme_11\"}\n",
      "Connection:  True\n",
      "[o] Message delivered successfully.{\"userid\": \"user_5\", \"itemid\": \"itme_19\"}\n",
      "Connection:  True\n",
      "[o] Message delivered successfully.{\"userid\": \"user_0\", \"itemid\": \"itme_2\"}\n",
      "Connection:  True\n",
      "[o] Message delivered successfully.{\"userid\": \"user_5\", \"itemid\": \"itme_1\"}\n",
      "Connection:  True\n",
      "[o] Message delivered successfully.{\"userid\": \"user_4\", \"itemid\": \"itme_9\"}\n",
      "Connection:  True\n",
      "[o] Message delivered successfully.{\"userid\": \"user_5\", \"itemid\": \"itme_13\"}\n",
      "Connection:  True\n",
      "[o] Message delivered successfully.{\"userid\": \"user_2\", \"itemid\": \"itme_20\"}\n",
      "Connection:  True\n",
      "[o] Message delivered successfully.{\"userid\": \"user_3\", \"itemid\": \"itme_16\"}\n",
      "Connection:  True\n",
      "[o] Message delivered successfully.{\"userid\": \"user_5\", \"itemid\": \"itme_20\"}\n",
      "Connection:  True\n",
      "[o] Message delivered successfully.{\"userid\": \"user_1\", \"itemid\": \"itme_17\"}\n"
     ]
    }
   ],
   "source": [
    "# send message\n",
    "for i in range(10):\n",
    "    if PikaClient().conn_check:\n",
    "        # print(f'Connection: ',PikaClient().conn_check)\n",
    "        data = {'userid':f'user_{random.randint(0,5)}', 'itemid': f'itme_{random.randint(0,20)}'}\n",
    "        body = json.dumps(data)\n",
    "        PikaClient().MessageSender(queue_name='demo', exchange='', routing_key='demo', body=body)\n",
    "    else:\n",
    "        print('Connection: failed')"
   ]
  },
  {
   "cell_type": "markdown",
   "metadata": {},
   "source": [
    "# Redis demo"
   ]
  },
  {
   "cell_type": "code",
   "execution_count": 4,
   "metadata": {},
   "outputs": [
    {
     "data": {
      "text/plain": [
       "[]"
      ]
     },
     "execution_count": 4,
     "metadata": {},
     "output_type": "execute_result"
    }
   ],
   "source": [
    "r = redisClient()\n",
    "r.keys()"
   ]
  },
  {
   "cell_type": "code",
   "execution_count": 5,
   "metadata": {},
   "outputs": [],
   "source": [
    "r.close()"
   ]
  }
 ],
 "metadata": {
  "kernelspec": {
   "display_name": ".venv",
   "language": "python",
   "name": "python3"
  },
  "language_info": {
   "codemirror_mode": {
    "name": "ipython",
    "version": 3
   },
   "file_extension": ".py",
   "mimetype": "text/x-python",
   "name": "python",
   "nbconvert_exporter": "python",
   "pygments_lexer": "ipython3",
   "version": "3.10.12"
  }
 },
 "nbformat": 4,
 "nbformat_minor": 2
}
