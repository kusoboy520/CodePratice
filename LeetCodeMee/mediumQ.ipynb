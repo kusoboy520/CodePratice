{
 "cells": [
  {
   "cell_type": "markdown",
   "metadata": {},
   "source": [
    "# Medium Question\n",
    "\n",
    "## Q-151 Reverse Words in a String\n",
    "```python\n",
    "'''my first answer'''\n",
    "class Solution:\n",
    "    def reverseWords(self, s: str) -> str:\n",
    "        return ' '.join([i for i in s.split(' ')[::-1] if i != ''])\n",
    "\n",
    "\"\"\"other answer\"\"\"\n",
    "class Solution:\n",
    "    def reverseWords(self, s: str) -> str:\n",
    "        res = []\n",
    "        temp = ''\n",
    "        for i in s:\n",
    "            if i != ' ':\n",
    "                temp += i\n",
    "            elif i == ' ' and temp!='':\n",
    "                res.append(temp)\n",
    "                temp = ''\n",
    "        if temp != '':\n",
    "            res.append(temp)\n",
    "        return ' '.join(res[::-1])\n",
    "```"
   ]
  },
  {
   "cell_type": "markdown",
   "metadata": {},
   "source": [
    "## Q-238 Product of Array Except Self\n",
    "```python\n",
    "'''answer'''\n",
    "class Solution:\n",
    "  def productExceptSelf(self, nums: List[int]) -> List[int]:\n",
    "    n = len(nums)\n",
    "    left_product = [1] * n \n",
    "    right_product = [1] * n\n",
    "\n",
    "    for i in range(1, n):\n",
    "        left_product[i] = left_product[i - 1] * nums[i - 1]\n",
    "\n",
    "    for i in range(n - 2, -1, -1):\n",
    "        right_product[i] = right_product[i + 1] * nums[i + 1]\n",
    "\n",
    "    result = [left_product[i] * right_product[i] for i in range(n)]\n",
    "\n",
    "    return result\n",
    "\n",
    "'''other answer'''\n",
    "nums= [-1,1,0,-3,3]\n",
    "length = len(nums)\n",
    "sol=[1]*length\n",
    "pre = 1 # left \n",
    "post = 1 #right\n",
    "\n",
    "for i in range(length):\n",
    "    sol[i] *= pre\n",
    "    pre *= nums[i]\n",
    "    sol[length-i-1] *= post\n",
    "    post = nums[length-i-1] * post\n",
    "\n",
    "\n",
    "```"
   ]
  },
  {
   "cell_type": "code",
   "execution_count": 35,
   "metadata": {},
   "outputs": [
    {
     "name": "stdout",
     "output_type": "stream",
     "text": [
      "0 1 2 0\n",
      "0 2 3 0\n",
      "0 3 4 0\n",
      "0 4 5 0\n",
      "0 5 6 0\n",
      "1 6 7 6\n",
      "1 7 8 6\n",
      "1 8 9 6\n",
      "1 9 10 6\n",
      "1 10 11 6\n",
      "1 11 12 6\n",
      "1 12 13 6\n",
      "4 13 12 13\n",
      "4 14 13 13\n",
      "5 15 14 13\n",
      "5 16 15 13\n",
      "5 17 16 13\n",
      "5 18 17 13\n",
      "5 19 18 13\n"
     ]
    }
   ],
   "source": [
    "nums = [0,0,1,1,0,0,1,1,1,0,1,1,0,0,0,1,1,1,1]\n",
    "k=3\n",
    "left,right = 0, 0\n",
    "tmpk = k\n",
    "tmpans = 1\n",
    "ans = 0\n",
    "length = len(nums)\n",
    "while right < length:\n",
    "    if tmpk > 0 and nums[right] == 0:\n",
    "        tmpk -= 1\n",
    "        tmpans += 1\n",
    "        right += 1\n",
    "    elif tmpk == 0 and nums[right] == 0:\n",
    "        ans = max(tmpans, ans)\n",
    "        for i in range(left+1, length):\n",
    "            if nums[i] != 0:\n",
    "                tmpans -= 1\n",
    "            else:\n",
    "                left = i\n",
    "                tmpk += 1\n",
    "                tmpans += 1\n",
    "                right += 1\n",
    "                break\n",
    "    else:\n",
    "        right += 1\n",
    "        tmpans += 1\n",
    "    print(left, right, tmpans, ans)\n"
   ]
  },
  {
   "cell_type": "code",
   "execution_count": 23,
   "metadata": {},
   "outputs": [
    {
     "name": "stdout",
     "output_type": "stream",
     "text": [
      "0 6 12\n",
      "1 6 15\n",
      "2 6 16\n",
      "2 6 16\n",
      "2 6 16\n",
      "2 6 16\n",
      "2 6 16\n",
      "16\n"
     ]
    }
   ],
   "source": [
    "height=[2,3,4,5,18,17,6]\n",
    "length = len(height)\n",
    "left, right = 0,length-1\n",
    "maxvloume = (length-1) * min(height[left], height[right])\n",
    "if len(height)==1:\n",
    "    print(height[0])\n",
    "for i in range(length):\n",
    "    if (right-i) * min(height[i], height[right]) > maxvloume:\n",
    "        left = i\n",
    "        maxvloume = (right - i) * min(height[i], height[right]) \n",
    "        \n",
    "    if ((length - i-1) - left) * min(height[left], height[length-i-1]) > maxvloume:\n",
    "        right = length - i -1\n",
    "        maxvloume = (length - i-1 - left) * min(height[left], height[length-i-1]) \n",
    "\n",
    "    if i > length -i -1:\n",
    "        break\n",
    "    print(left, right, maxvloume)\n",
    "print(maxvloume)\n",
    "    \n"
   ]
  }
 ],
 "metadata": {
  "kernelspec": {
   "display_name": ".venv",
   "language": "python",
   "name": "python3"
  },
  "language_info": {
   "codemirror_mode": {
    "name": "ipython",
    "version": 3
   },
   "file_extension": ".py",
   "mimetype": "text/x-python",
   "name": "python",
   "nbconvert_exporter": "python",
   "pygments_lexer": "ipython3",
   "version": "3.10.12"
  }
 },
 "nbformat": 4,
 "nbformat_minor": 2
}
