{
 "cells": [
  {
   "cell_type": "markdown",
   "metadata": {},
   "source": [
    "# Medium Question\n",
    "\n",
    "## Q-151 Reverse Words in a String\n",
    "```python\n",
    "'''my first answer'''\n",
    "class Solution:\n",
    "    def reverseWords(self, s: str) -> str:\n",
    "        return ' '.join([i for i in s.split(' ')[::-1] if i != ''])\n",
    "\n",
    "\"\"\"other answer\"\"\"\n",
    "class Solution:\n",
    "    def reverseWords(self, s: str) -> str:\n",
    "        res = []\n",
    "        temp = ''\n",
    "        for i in s:\n",
    "            if i != ' ':\n",
    "                temp += i\n",
    "            elif i == ' ' and temp!='':\n",
    "                res.append(temp)\n",
    "                temp = ''\n",
    "        if temp != '':\n",
    "            res.append(temp)\n",
    "        return ' '.join(res[::-1])\n",
    "```"
   ]
  },
  {
   "cell_type": "markdown",
   "metadata": {},
   "source": [
    "## Q-238 Product of Array Except Self\n",
    "```python\n",
    "'''answer'''\n",
    "class Solution:\n",
    "  def productExceptSelf(self, nums: List[int]) -> List[int]:\n",
    "    n = len(nums)\n",
    "    left_product = [1] * n \n",
    "    right_product = [1] * n\n",
    "\n",
    "    for i in range(1, n):\n",
    "        left_product[i] = left_product[i - 1] * nums[i - 1]\n",
    "\n",
    "    for i in range(n - 2, -1, -1):\n",
    "        right_product[i] = right_product[i + 1] * nums[i + 1]\n",
    "\n",
    "    result = [left_product[i] * right_product[i] for i in range(n)]\n",
    "\n",
    "    return result\n",
    "\n",
    "'''other answer'''\n",
    "nums= [-1,1,0,-3,3]\n",
    "length = len(nums)\n",
    "sol=[1]*length\n",
    "pre = 1 # left \n",
    "post = 1 #right\n",
    "\n",
    "for i in range(length):\n",
    "    sol[i] *= pre\n",
    "    pre *= nums[i]\n",
    "    sol[length-i-1] *= post\n",
    "    post = nums[length-i-1] * post\n",
    "\n",
    "\n",
    "```"
   ]
  },
  {
   "cell_type": "code",
   "execution_count": 2,
   "metadata": {},
   "outputs": [
    {
     "data": {
      "text/plain": [
       "[1, 3, 7]"
      ]
     },
     "execution_count": 2,
     "metadata": {},
     "output_type": "execute_result"
    }
   ],
   "source": [
    "ranks = sorted(set(nums))\n",
    "ranks"
   ]
  },
  {
   "cell_type": "code",
   "execution_count": 3,
   "metadata": {},
   "outputs": [
    {
     "data": {
      "text/plain": [
       "0"
      ]
     },
     "execution_count": 3,
     "metadata": {},
     "output_type": "execute_result"
    }
   ],
   "source": [
    "j=2\n",
    "ranks.index(nums[j])"
   ]
  },
  {
   "cell_type": "code",
   "execution_count": 7,
   "metadata": {},
   "outputs": [
    {
     "name": "stdout",
     "output_type": "stream",
     "text": [
      "True\n",
      "True\n",
      "True\n",
      "True\n",
      "True\n",
      "True\n",
      "True\n",
      "True\n",
      "True\n",
      "True\n",
      "True\n",
      "True\n",
      "True\n",
      "True\n",
      "True\n",
      "True\n",
      "True\n",
      "True\n",
      "True\n",
      "True\n",
      "True\n",
      "True\n",
      "True\n",
      "True\n",
      "True\n",
      "True\n",
      "True\n",
      "True\n",
      "True\n",
      "True\n",
      "True\n",
      "True\n",
      "True\n",
      "True\n",
      "True\n",
      "True\n",
      "True\n",
      "True\n",
      "True\n",
      "True\n",
      "True\n",
      "True\n",
      "True\n",
      "True\n",
      "True\n",
      "True\n",
      "True\n",
      "True\n",
      "True\n",
      "True\n",
      "True\n",
      "True\n"
     ]
    },
    {
     "ename": "KeyboardInterrupt",
     "evalue": "",
     "output_type": "error",
     "traceback": [
      "\u001b[1;31m---------------------------------------------------------------------------\u001b[0m",
      "\u001b[1;31mKeyboardInterrupt\u001b[0m                         Traceback (most recent call last)",
      "\u001b[1;32md:\\Projects\\CodePratice\\LeetCodeMee\\mediumQ.ipynb Cell 6\u001b[0m line \u001b[0;36m3\n\u001b[0;32m      <a href='vscode-notebook-cell:/d%3A/Projects/CodePratice/LeetCodeMee/mediumQ.ipynb#X14sZmlsZQ%3D%3D?line=0'>1</a>\u001b[0m \u001b[39mfor\u001b[39;00m i \u001b[39min\u001b[39;00m \u001b[39mrange\u001b[39m(\u001b[39mlen\u001b[39m(nums)\u001b[39m-\u001b[39m\u001b[39m2\u001b[39m):\n\u001b[0;32m      <a href='vscode-notebook-cell:/d%3A/Projects/CodePratice/LeetCodeMee/mediumQ.ipynb#X14sZmlsZQ%3D%3D?line=1'>2</a>\u001b[0m     \u001b[39mfor\u001b[39;00m j \u001b[39min\u001b[39;00m \u001b[39mrange\u001b[39m(i\u001b[39m+\u001b[39m\u001b[39m1\u001b[39m, \u001b[39mlen\u001b[39m(nums)\u001b[39m-\u001b[39m\u001b[39m1\u001b[39m):\n\u001b[1;32m----> <a href='vscode-notebook-cell:/d%3A/Projects/CodePratice/LeetCodeMee/mediumQ.ipynb#X14sZmlsZQ%3D%3D?line=2'>3</a>\u001b[0m         \u001b[39mif\u001b[39;00m ranks\u001b[39m.\u001b[39mindex(nums[j])\u001b[39m>\u001b[39mranks\u001b[39m.\u001b[39;49mindex(nums[i]) \u001b[39mand\u001b[39;00m ranks\u001b[39m.\u001b[39mindex(\u001b[39mmax\u001b[39m(nums[j\u001b[39m+\u001b[39m\u001b[39m1\u001b[39m:]))\u001b[39m>\u001b[39m ranks\u001b[39m.\u001b[39mindex(nums[j]):\n\u001b[0;32m      <a href='vscode-notebook-cell:/d%3A/Projects/CodePratice/LeetCodeMee/mediumQ.ipynb#X14sZmlsZQ%3D%3D?line=3'>4</a>\u001b[0m             \u001b[39mprint\u001b[39m(\u001b[39mTrue\u001b[39;00m)\n\u001b[0;32m      <a href='vscode-notebook-cell:/d%3A/Projects/CodePratice/LeetCodeMee/mediumQ.ipynb#X14sZmlsZQ%3D%3D?line=4'>5</a>\u001b[0m         \u001b[39melse\u001b[39;00m:\n",
      "\u001b[1;31mKeyboardInterrupt\u001b[0m: "
     ]
    }
   ],
   "source": [
    "for i in range(len(nums)-2):\n",
    "    for j in range(i+1, len(nums)-1):\n",
    "        if ranks.index(nums[j])>ranks.index(nums[i]) and ranks.index(max(nums[j+1:]))> ranks.index(nums[j]):\n",
    "            print(True)\n",
    "        else:\n",
    "            continue\n",
    "print(False)\n"
   ]
  },
  {
   "cell_type": "code",
   "execution_count": 6,
   "metadata": {},
   "outputs": [
    {
     "data": {
      "text/plain": [
       "499998"
      ]
     },
     "execution_count": 6,
     "metadata": {},
     "output_type": "execute_result"
    }
   ],
   "source": []
  }
 ],
 "metadata": {
  "kernelspec": {
   "display_name": ".venv",
   "language": "python",
   "name": "python3"
  },
  "language_info": {
   "codemirror_mode": {
    "name": "ipython",
    "version": 3
   },
   "file_extension": ".py",
   "mimetype": "text/x-python",
   "name": "python",
   "nbconvert_exporter": "python",
   "pygments_lexer": "ipython3",
   "version": "3.10.11"
  }
 },
 "nbformat": 4,
 "nbformat_minor": 2
}
