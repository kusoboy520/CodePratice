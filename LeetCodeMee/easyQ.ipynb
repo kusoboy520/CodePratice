{
 "cells": [
  {
   "cell_type": "markdown",
   "metadata": {},
   "source": [
    "# <font color='yellow'>Easy Question</font>"
   ]
  },
  {
   "cell_type": "markdown",
   "metadata": {},
   "source": [
    "## Q-176. Merge String Alternately\n",
    "```python\n",
    "'''My first answer'''\n",
    "class Solution:\n",
    "    def mergeAlternately(self, word1: str, word2: str) -> str:\n",
    "        length = max(len(word1), len(word2))\n",
    "        word1 = word1 + ' ' * (length - len(word1))\n",
    "        word2 = word2 + ' ' * (length - len(word2))\n",
    "        output=''\n",
    "        for i,j in zip(word1, word2):\n",
    "            output += i+j\n",
    "        return output.replace(' ','')\n",
    "\n",
    "'''other answer1'''\n",
    "class Solution:\n",
    "    def mergeAlternately(self, word1: str, word2: str) -> str:\n",
    "        return \"\".join(a+b for a,b in zip_longest(word1, word2, fillvaluve=\"\"))\n",
    "'''other answer2'''\n",
    "class Solution:\n",
    "    import itertools\n",
    "    def mergeAlternately(self, word1: str, word2: str) -> str:\n",
    "        res = \"\"\n",
    "        return res.join(\n",
    "            [\n",
    "                x for x in itertools.chain.from_iterable(itertools.zip_longest(list(world1), list(world2))) if x\n",
    "            ]\n",
    "        )\n",
    "\n",
    "```"
   ]
  },
  {
   "cell_type": "markdown",
   "metadata": {},
   "source": [
    "## Q-1071. Greatest Common Divisor of Strings\n",
    "\n",
    "```python\n",
    "'''My first answer'''\n",
    "class Solution:\n",
    "    def gcdOfStrings(self, str1: str, str2: str) -> str:\n",
    "        len1, len2 = len(str1), len(str2)\n",
    "        if len1 >= len2:\n",
    "            max_word, min_word = str1, str2\n",
    "        else:\n",
    "            max_word, min_word = str2, str1\n",
    "        GCD = ''\n",
    "        for i in range(1,len(min_word)+1):\n",
    "            if (max_word == min_word[:i] * int(max(len1, len2)//(i))) & (min_word == min_word[:i] * int(min(len1, len2)//(i))):\n",
    "                GCD = min_word[:i]\n",
    "        return GCD\n",
    "\n",
    "'''second answer'''\n",
    "class Solution:\n",
    "    def gcdOfStrings(self, str1: str, str2: str) -> str:\n",
    "        if str1 + str2 != str2 + str1 :\n",
    "            return \"\"\n",
    "        from math import gcd\n",
    "        return str1[:gcd(len(str1), len(str2))]\n",
    "\n",
    "```\n",
    "\n"
   ]
  },
  {
   "cell_type": "markdown",
   "metadata": {},
   "source": [
    "## Q1431 Kids with the Greatest Number of Candies\n",
    "\n",
    "```python\n",
    "'''My first answer'''\n",
    "class Solution:\n",
    "    def kidsWithCandies(self, candies: List[int], extraCandies: int) -> List[bool]:\n",
    "        output = []\n",
    "        for i in candies:\n",
    "            if i + extraCandies >= max(candies):\n",
    "                output.append(True)\n",
    "            else:\n",
    "                output.append(False)\n",
    "```"
   ]
  },
  {
   "cell_type": "markdown",
   "metadata": {},
   "source": [
    "## Q605 Can Place Flowers\n",
    "```python\n",
    "'''My first answer'''\n",
    "class Solution:\n",
    "    def canPlaceFlowers(self, flowerbed: List[int], n: int) -> bool:\n",
    "        cnts = 0\n",
    "        for i,val in enumerate(flowerbed):\n",
    "            length = len(flowerbed)\n",
    "            pre = i-1 if i-1 >=0 else 0\n",
    "            aft = i+1 if i+1 <= length else i+1\n",
    "            if sum(flowerbed[pre:aft+1])>=1:\n",
    "                continue\n",
    "            else:\n",
    "                flowerbed[i] = 1\n",
    "                cnts += 1\n",
    "        return cnts >= n\n",
    "\n",
    "'''other answer'''\n",
    "class Solution:\n",
    "    def canPlaceFlowers(self, flowerbed: List[int], n: int) -> bool:\n",
    "        length=len(flowerbed)\n",
    "        if n==0:\n",
    "            return True\n",
    "        for i in range(length):\n",
    "            if flowerbed[i] == 0  \\\n",
    "                and (i==0 or flowerbed[i-1] == 0)\\\n",
    "                and (i==length-1 or flowerbed[i+1] ==0 ):\n",
    "                n-=1\n",
    "                if n == 0:\n",
    "                    return True\n",
    "                flowerbed[i] = 1\n",
    "        return False \n",
    "\n",
    "```"
   ]
  },
  {
   "cell_type": "markdown",
   "metadata": {},
   "source": [
    "## Q345 Reverse Vowels of a string \n",
    "```python\n",
    "'''My first answer'''\n",
    "class Solution:\n",
    "    def reverseVowels(self, s: str) -> str:\n",
    "        lst = list(s)\n",
    "        length = len(lst)\n",
    "        left, right = 0, length-1\n",
    "        words = set('aeiouAEIOU')\n",
    "\n",
    "        while left < right:\n",
    "            while left < right and lst[left] not in words:\n",
    "                left += 1\n",
    "            while left < right and lst[right] not in words:\n",
    "                right -= 1\n",
    "            lst[left], lst[right] = lst[right], lst[left]\n",
    "            left += 1\n",
    "            right -= 1\n",
    "        return ''.join(lst)\n",
    "```"
   ]
  },
  {
   "cell_type": "markdown",
   "metadata": {},
   "source": [
    "## Q-283 Move Zeroes\n",
    "```python\n",
    "'''My first answer'''\n",
    "class Solution:\n",
    "    def moveZeroes(self, nums: List[int]) -> None:\n",
    "        \"\"\"\n",
    "        Do not return anything, modify nums in-place instead.\n",
    "        \"\"\"\n",
    "        if nums == [0]:\n",
    "            pass\n",
    "        else:\n",
    "            for i in nums:\n",
    "                if i == 0:\n",
    "                    nums.remove(0)\n",
    "                    nums.append(0)\n",
    "\n",
    "'''my second answer'''\n",
    "class Solution:\n",
    "    def moveZeroes(self, nums: List[int]) -> None:\n",
    "        \"\"\"\n",
    "        Do not return anything, modify nums in-place instead.\n",
    "        \"\"\"\n",
    "        if len(nums)>1:\n",
    "            nums.sort(key = lambda x: x==0)\n",
    "                    \n",
    "```"
   ]
  },
  {
   "cell_type": "markdown",
   "metadata": {},
   "source": [
    "## Q-392 Is Subsequence\n",
    "```python\n",
    "'''not my answer''''\n",
    "class Solution:\n",
    "    def isSubsequence(self, s: str, t: str) -> bool:\n",
    "        i,j = 0,0\n",
    "        while i < len(s) and j < len(t):\n",
    "            if s[i] == t[j]:\n",
    "                i +=1\n",
    "            j += 1\n",
    "        return i == len(s)\n",
    "\n",
    "```"
   ]
  },
  {
   "cell_type": "markdown",
   "metadata": {},
   "source": [
    "## Q-643 Maximum Average Subarray\n",
    "```python\n",
    "nums = [1,0,1,4,2]\n",
    "maxsum = sum(nums[:k])\n",
    "length = len(nums)\n",
    "answer = maxsum\n",
    "for i in range(k, length):\n",
    "    maxsum += num[i]\n",
    "    maxsum -= num[i-k]\n",
    "    answer = max(maxsum, answer)\n",
    "print(answer)\n",
    "\n",
    "```"
   ]
  },
  {
   "cell_type": "markdown",
   "metadata": {},
   "source": [
    "## Q443 String Compression\n",
    "\n",
    "```python\n",
    "class Solution:\n",
    "    def compress(self, chars: List[str]) -> int:\n",
    "        length = len(chars)\n",
    "        s = ''\n",
    "        if len(chars) == 1:\n",
    "            return 1\n",
    "        for i in range(length):\n",
    "            if chars[i] in s:\n",
    "                s += chars[i]\n",
    "            elif i == 0:\n",
    "                s = chars[i]\n",
    "            elif (chars[i] not in s) and len(s)== 1:\n",
    "                chars += s[0] \n",
    "                s = chars[i]\n",
    "            else:\n",
    "                chars += list(s[0]) + list(str(len(s)))\n",
    "                s = chars[i]\n",
    "        if len(s) == 1:\n",
    "            chars += list(s[0]) \n",
    "        else:\n",
    "            chars += list(s[0]) + list(str(len(s)))\n",
    "        del(chars[:length])\n",
    "        return len(chars)\n",
    "```"
   ]
  },
  {
   "cell_type": "code",
   "execution_count": 48,
   "metadata": {},
   "outputs": [
    {
     "data": {
      "text/plain": [
       "[{3}, set()]"
      ]
     },
     "execution_count": 48,
     "metadata": {},
     "output_type": "execute_result"
    }
   ],
   "source": [
    "nums1 = [1,2,3,3]\n",
    "nums2 = [1,1,2,2]\n",
    "output = [[],[]]\n",
    "\n",
    "[set(nums1)-set(nums2), set(nums2)-set(nums1)]"
   ]
  },
  {
   "cell_type": "code",
   "execution_count": 43,
   "metadata": {},
   "outputs": [
    {
     "name": "stdout",
     "output_type": "stream",
     "text": [
      "1 1\n",
      "2 2\n"
     ]
    }
   ],
   "source": [
    "for i,j in zip(set(nums1), set(nums2)):\n",
    "    print(i,j)"
   ]
  },
  {
   "cell_type": "code",
   "execution_count": 26,
   "metadata": {},
   "outputs": [
    {
     "name": "stdout",
     "output_type": "stream",
     "text": [
      "1\n"
     ]
    }
   ],
   "source": [
    "highest = 0\n",
    "now = 0\n",
    "for i in gain:\n",
    "    now = i+now\n",
    "    highest = max(highest, now)\n",
    "print(highest)\n",
    "\n",
    "\n",
    "\n",
    "\n",
    "\n"
   ]
  },
  {
   "cell_type": "code",
   "execution_count": 22,
   "metadata": {},
   "outputs": [
    {
     "data": {
      "text/plain": [
       "1.75"
      ]
     },
     "execution_count": 22,
     "metadata": {},
     "output_type": "execute_result"
    }
   ],
   "source": [
    "maxavg"
   ]
  }
 ],
 "metadata": {
  "kernelspec": {
   "display_name": ".venv",
   "language": "python",
   "name": "python3"
  },
  "language_info": {
   "codemirror_mode": {
    "name": "ipython",
    "version": 3
   },
   "file_extension": ".py",
   "mimetype": "text/x-python",
   "name": "python",
   "nbconvert_exporter": "python",
   "pygments_lexer": "ipython3",
   "version": "3.10.12"
  }
 },
 "nbformat": 4,
 "nbformat_minor": 2
}
